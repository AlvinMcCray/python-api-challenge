{
 "cells": [
  {
   "cell_type": "markdown",
   "metadata": {},
   "source": [
    "# VacationPy\n",
    "----\n",
    "\n",
    "#### Note\n",
    "* Keep an eye on your API usage. Use https://developers.google.com/maps/reporting/gmp-reporting as reference for how to monitor your usage and billing.\n",
    "\n",
    "* Instructions have been included for each segment. You do not have to follow them exactly, but they are included to help you think through the steps."
   ]
  },
  {
   "cell_type": "code",
   "execution_count": 1,
   "metadata": {},
   "outputs": [],
   "source": [
    "# Dependencies and Setup\n",
    "import matplotlib.pyplot as plt\n",
    "import pandas as pd\n",
    "import numpy as np\n",
    "import requests\n",
    "import gmaps\n",
    "import os\n",
    "\n",
    "# Import API key\n",
    "from api_keys import g_key"
   ]
  },
  {
   "cell_type": "markdown",
   "metadata": {},
   "source": [
    "### Store Part I results into DataFrame\n",
    "* Load the csv exported in Part I to a DataFrame"
   ]
  },
  {
   "cell_type": "code",
   "execution_count": 2,
   "metadata": {},
   "outputs": [
    {
     "output_type": "execute_result",
     "data": {
      "text/plain": [
       "             City  Cloudiness Country        Date  Humidity    Lat    Lng  \\\n",
       "0          normal          20      US  1608353360        86  40.51 -88.99   \n",
       "1  ribeira grande          95      PT  1608353360        78  38.52 -28.70   \n",
       "2    punta arenas          97      CL  1608353360        76 -53.15 -70.92   \n",
       "3     grand gaube           4      MU  1608353185        72 -20.01  57.66   \n",
       "4           vardo          70      NO  1608353361        94  70.37  31.11   \n",
       "\n",
       "   Max Temp  Wind Speed  \n",
       "0      1.67        8.20  \n",
       "1     16.14        4.57  \n",
       "2      9.00        3.60  \n",
       "3     27.22        3.13  \n",
       "4     -5.26        2.36  "
      ],
      "text/html": "<div>\n<style scoped>\n    .dataframe tbody tr th:only-of-type {\n        vertical-align: middle;\n    }\n\n    .dataframe tbody tr th {\n        vertical-align: top;\n    }\n\n    .dataframe thead th {\n        text-align: right;\n    }\n</style>\n<table border=\"1\" class=\"dataframe\">\n  <thead>\n    <tr style=\"text-align: right;\">\n      <th></th>\n      <th>City</th>\n      <th>Cloudiness</th>\n      <th>Country</th>\n      <th>Date</th>\n      <th>Humidity</th>\n      <th>Lat</th>\n      <th>Lng</th>\n      <th>Max Temp</th>\n      <th>Wind Speed</th>\n    </tr>\n  </thead>\n  <tbody>\n    <tr>\n      <th>0</th>\n      <td>normal</td>\n      <td>20</td>\n      <td>US</td>\n      <td>1608353360</td>\n      <td>86</td>\n      <td>40.51</td>\n      <td>-88.99</td>\n      <td>1.67</td>\n      <td>8.20</td>\n    </tr>\n    <tr>\n      <th>1</th>\n      <td>ribeira grande</td>\n      <td>95</td>\n      <td>PT</td>\n      <td>1608353360</td>\n      <td>78</td>\n      <td>38.52</td>\n      <td>-28.70</td>\n      <td>16.14</td>\n      <td>4.57</td>\n    </tr>\n    <tr>\n      <th>2</th>\n      <td>punta arenas</td>\n      <td>97</td>\n      <td>CL</td>\n      <td>1608353360</td>\n      <td>76</td>\n      <td>-53.15</td>\n      <td>-70.92</td>\n      <td>9.00</td>\n      <td>3.60</td>\n    </tr>\n    <tr>\n      <th>3</th>\n      <td>grand gaube</td>\n      <td>4</td>\n      <td>MU</td>\n      <td>1608353185</td>\n      <td>72</td>\n      <td>-20.01</td>\n      <td>57.66</td>\n      <td>27.22</td>\n      <td>3.13</td>\n    </tr>\n    <tr>\n      <th>4</th>\n      <td>vardo</td>\n      <td>70</td>\n      <td>NO</td>\n      <td>1608353361</td>\n      <td>94</td>\n      <td>70.37</td>\n      <td>31.11</td>\n      <td>-5.26</td>\n      <td>2.36</td>\n    </tr>\n  </tbody>\n</table>\n</div>"
     },
     "metadata": {},
     "execution_count": 2
    }
   ],
   "source": [
    "df = pd.read_csv(\"./output_data/weather_output.csv\")\n",
    "weather_df = df.drop(columns=[\"Unnamed: 0\"])\n",
    "weather_df.head()\n"
   ]
  },
  {
   "cell_type": "code",
   "execution_count": 4,
   "metadata": {},
   "outputs": [],
   "source": [
    "# Transform from celsius to fahrenheit\n",
    "Max_Temp_F = [(x*1.8) + 32 for x in weather_df[\"Max Temp\"]]"
   ]
  },
  {
   "cell_type": "code",
   "execution_count": 5,
   "metadata": {},
   "outputs": [
    {
     "output_type": "execute_result",
     "data": {
      "text/plain": [
       "             City  Cloudiness Country        Date  Humidity    Lat    Lng  \\\n",
       "0          normal          20      US  1608353360        86  40.51 -88.99   \n",
       "1  ribeira grande          95      PT  1608353360        78  38.52 -28.70   \n",
       "2    punta arenas          97      CL  1608353360        76 -53.15 -70.92   \n",
       "3     grand gaube           4      MU  1608353185        72 -20.01  57.66   \n",
       "4           vardo          70      NO  1608353361        94  70.37  31.11   \n",
       "\n",
       "   Max Temp  Wind Speed  Max Temp (F)  \n",
       "0      1.67        8.20        35.006  \n",
       "1     16.14        4.57        61.052  \n",
       "2      9.00        3.60        48.200  \n",
       "3     27.22        3.13        80.996  \n",
       "4     -5.26        2.36        22.532  "
      ],
      "text/html": "<div>\n<style scoped>\n    .dataframe tbody tr th:only-of-type {\n        vertical-align: middle;\n    }\n\n    .dataframe tbody tr th {\n        vertical-align: top;\n    }\n\n    .dataframe thead th {\n        text-align: right;\n    }\n</style>\n<table border=\"1\" class=\"dataframe\">\n  <thead>\n    <tr style=\"text-align: right;\">\n      <th></th>\n      <th>City</th>\n      <th>Cloudiness</th>\n      <th>Country</th>\n      <th>Date</th>\n      <th>Humidity</th>\n      <th>Lat</th>\n      <th>Lng</th>\n      <th>Max Temp</th>\n      <th>Wind Speed</th>\n      <th>Max Temp (F)</th>\n    </tr>\n  </thead>\n  <tbody>\n    <tr>\n      <th>0</th>\n      <td>normal</td>\n      <td>20</td>\n      <td>US</td>\n      <td>1608353360</td>\n      <td>86</td>\n      <td>40.51</td>\n      <td>-88.99</td>\n      <td>1.67</td>\n      <td>8.20</td>\n      <td>35.006</td>\n    </tr>\n    <tr>\n      <th>1</th>\n      <td>ribeira grande</td>\n      <td>95</td>\n      <td>PT</td>\n      <td>1608353360</td>\n      <td>78</td>\n      <td>38.52</td>\n      <td>-28.70</td>\n      <td>16.14</td>\n      <td>4.57</td>\n      <td>61.052</td>\n    </tr>\n    <tr>\n      <th>2</th>\n      <td>punta arenas</td>\n      <td>97</td>\n      <td>CL</td>\n      <td>1608353360</td>\n      <td>76</td>\n      <td>-53.15</td>\n      <td>-70.92</td>\n      <td>9.00</td>\n      <td>3.60</td>\n      <td>48.200</td>\n    </tr>\n    <tr>\n      <th>3</th>\n      <td>grand gaube</td>\n      <td>4</td>\n      <td>MU</td>\n      <td>1608353185</td>\n      <td>72</td>\n      <td>-20.01</td>\n      <td>57.66</td>\n      <td>27.22</td>\n      <td>3.13</td>\n      <td>80.996</td>\n    </tr>\n    <tr>\n      <th>4</th>\n      <td>vardo</td>\n      <td>70</td>\n      <td>NO</td>\n      <td>1608353361</td>\n      <td>94</td>\n      <td>70.37</td>\n      <td>31.11</td>\n      <td>-5.26</td>\n      <td>2.36</td>\n      <td>22.532</td>\n    </tr>\n  </tbody>\n</table>\n</div>"
     },
     "metadata": {},
     "execution_count": 5
    }
   ],
   "source": [
    "# Add to DataFrame as a new column\n",
    "weather_df[\"Max Temp (F)\"] = Max_Temp_F\n",
    "weather_df.head()"
   ]
  },
  {
   "cell_type": "markdown",
   "metadata": {},
   "source": [
    "### Humidity Heatmap\n",
    "* Configure gmaps.\n",
    "* Use the Lat and Lng as locations and Humidity as the weight.\n",
    "* Add Heatmap layer to map."
   ]
  },
  {
   "cell_type": "code",
   "execution_count": 6,
   "metadata": {},
   "outputs": [],
   "source": [
    "# Humidity Heatmap\n",
    "\n",
    "weather_df = weather_df.dropna()\n",
    "humidity = weather_df[\"Humidity\"].astype(float)\n",
    "locations = weather_df[[\"Lat\", \"Lng\"]].astype(float)\n",
    "\n",
    "# Add heatmap figure to map\n",
    "fig = gmaps.figure()\n",
    "\n",
    "heat_layer = gmaps.heatmap_layer(locations, weights=humidity, \n",
    "                                 dissipating=False, max_intensity=max(weather_df[\"Humidity\"]),\n",
    "                                 point_radius = 2)\n",
    "\n",
    "fig.add_layer(heat_layer)"
   ]
  },
  {
   "cell_type": "markdown",
   "metadata": {},
   "source": [
    "### Create new DataFrame fitting weather criteria\n",
    "* Narrow down the cities to fit weather conditions.\n",
    "* Drop any rows will null values."
   ]
  },
  {
   "cell_type": "code",
   "execution_count": 7,
   "metadata": {},
   "outputs": [
    {
     "output_type": "execute_result",
     "data": {
      "text/plain": [
       "              City  Cloudiness Country        Date  Humidity    Lat     Lng  \\\n",
       "85         rikitea           0      PF  1608353199        77 -23.12 -134.97   \n",
       "155        prieska           0      ZA  1608353407        42 -29.66   22.75   \n",
       "225           puri           0      IN  1608353284        60  19.80   85.85   \n",
       "237      esperance           0      AU  1608353432        31 -33.87  121.90   \n",
       "270  cockburn town           0      TC  1608353441        80  21.46  -71.14   \n",
       "\n",
       "     Max Temp  Wind Speed  Max Temp (F)  \n",
       "85      25.62        9.49        78.116  \n",
       "155     26.32        1.06        79.376  \n",
       "225     22.00        5.10        71.600  \n",
       "237     26.00        2.10        78.800  \n",
       "270     25.53        5.96        77.954  "
      ],
      "text/html": "<div>\n<style scoped>\n    .dataframe tbody tr th:only-of-type {\n        vertical-align: middle;\n    }\n\n    .dataframe tbody tr th {\n        vertical-align: top;\n    }\n\n    .dataframe thead th {\n        text-align: right;\n    }\n</style>\n<table border=\"1\" class=\"dataframe\">\n  <thead>\n    <tr style=\"text-align: right;\">\n      <th></th>\n      <th>City</th>\n      <th>Cloudiness</th>\n      <th>Country</th>\n      <th>Date</th>\n      <th>Humidity</th>\n      <th>Lat</th>\n      <th>Lng</th>\n      <th>Max Temp</th>\n      <th>Wind Speed</th>\n      <th>Max Temp (F)</th>\n    </tr>\n  </thead>\n  <tbody>\n    <tr>\n      <th>85</th>\n      <td>rikitea</td>\n      <td>0</td>\n      <td>PF</td>\n      <td>1608353199</td>\n      <td>77</td>\n      <td>-23.12</td>\n      <td>-134.97</td>\n      <td>25.62</td>\n      <td>9.49</td>\n      <td>78.116</td>\n    </tr>\n    <tr>\n      <th>155</th>\n      <td>prieska</td>\n      <td>0</td>\n      <td>ZA</td>\n      <td>1608353407</td>\n      <td>42</td>\n      <td>-29.66</td>\n      <td>22.75</td>\n      <td>26.32</td>\n      <td>1.06</td>\n      <td>79.376</td>\n    </tr>\n    <tr>\n      <th>225</th>\n      <td>puri</td>\n      <td>0</td>\n      <td>IN</td>\n      <td>1608353284</td>\n      <td>60</td>\n      <td>19.80</td>\n      <td>85.85</td>\n      <td>22.00</td>\n      <td>5.10</td>\n      <td>71.600</td>\n    </tr>\n    <tr>\n      <th>237</th>\n      <td>esperance</td>\n      <td>0</td>\n      <td>AU</td>\n      <td>1608353432</td>\n      <td>31</td>\n      <td>-33.87</td>\n      <td>121.90</td>\n      <td>26.00</td>\n      <td>2.10</td>\n      <td>78.800</td>\n    </tr>\n    <tr>\n      <th>270</th>\n      <td>cockburn town</td>\n      <td>0</td>\n      <td>TC</td>\n      <td>1608353441</td>\n      <td>80</td>\n      <td>21.46</td>\n      <td>-71.14</td>\n      <td>25.53</td>\n      <td>5.96</td>\n      <td>77.954</td>\n    </tr>\n  </tbody>\n</table>\n</div>"
     },
     "metadata": {},
     "execution_count": 7
    }
   ],
   "source": [
    "\n",
    "sum_weather_df = weather_df\n",
    "\n",
    "# A max temperature lower than 80 degrees but higher than 70\n",
    "sum_weather_df = sum_weather_df.loc[(sum_weather_df[\"Max Temp (F)\"] < 80) & (sum_weather_df[\"Max Temp (F)\"] > 70)]\n",
    "\n",
    "# Wind speed less than 10 mph\n",
    "sum_weather_df = sum_weather_df.loc[sum_weather_df[\"Wind Speed\"] < 10]\n",
    "\n",
    "# Zero cloudiness\n",
    "sum_weather_df = sum_weather_df.loc[sum_weather_df[\"Cloudiness\"] == 0]\n",
    "\n",
    "sum_weather_df.head()"
   ]
  },
  {
   "cell_type": "markdown",
   "metadata": {},
   "source": [
    "### Hotel Map\n",
    "* Store into variable named `hotel_df`.\n",
    "* Add a \"Hotel Name\" column to the DataFrame.\n",
    "* Set parameters to search for hotels with 5000 meters.\n",
    "* Hit the Google Places API for each city's coordinates.\n",
    "* Store the first Hotel result into the DataFrame.\n",
    "* Plot markers on top of the heatmap."
   ]
  },
  {
   "cell_type": "code",
   "execution_count": 10,
   "metadata": {},
   "outputs": [
    {
     "output_type": "stream",
     "name": "stdout",
     "text": [
      "Retrieving Results for Index 85: rikitea.\n",
      "{'error_message': 'You must enable Billing on the Google Cloud Project at https://console.cloud.google.com/project/_/billing/enable Learn more at https://developers.google.com/maps/gmp-get-started', 'html_attributions': [], 'results': [], 'status': 'REQUEST_DENIED'}\n",
      "Result not found... Skipping.\n",
      "------------\n",
      "Retrieving Results for Index 155: prieska.\n",
      "{'error_message': 'You must enable Billing on the Google Cloud Project at https://console.cloud.google.com/project/_/billing/enable Learn more at https://developers.google.com/maps/gmp-get-started', 'html_attributions': [], 'results': [], 'status': 'REQUEST_DENIED'}\n",
      "Result not found... Skipping.\n",
      "------------\n",
      "Retrieving Results for Index 225: puri.\n",
      "{'error_message': 'You must enable Billing on the Google Cloud Project at https://console.cloud.google.com/project/_/billing/enable Learn more at https://developers.google.com/maps/gmp-get-started', 'html_attributions': [], 'results': [], 'status': 'REQUEST_DENIED'}\n",
      "Result not found... Skipping.\n",
      "------------\n",
      "Retrieving Results for Index 237: esperance.\n",
      "{'error_message': 'You must enable Billing on the Google Cloud Project at https://console.cloud.google.com/project/_/billing/enable Learn more at https://developers.google.com/maps/gmp-get-started', 'html_attributions': [], 'results': [], 'status': 'REQUEST_DENIED'}\n",
      "Result not found... Skipping.\n",
      "------------\n",
      "Retrieving Results for Index 270: cockburn town.\n",
      "{'error_message': 'You must enable Billing on the Google Cloud Project at https://console.cloud.google.com/project/_/billing/enable Learn more at https://developers.google.com/maps/gmp-get-started', 'html_attributions': [], 'results': [], 'status': 'REQUEST_DENIED'}\n",
      "Result not found... Skipping.\n",
      "------------\n",
      "Retrieving Results for Index 484: rio brilhante.\n",
      "{'error_message': 'You must enable Billing on the Google Cloud Project at https://console.cloud.google.com/project/_/billing/enable Learn more at https://developers.google.com/maps/gmp-get-started', 'html_attributions': [], 'results': [], 'status': 'REQUEST_DENIED'}\n",
      "Result not found... Skipping.\n",
      "------------\n",
      "Retrieving Results for Index 490: cruzeiro do sul.\n",
      "{'error_message': 'You must enable Billing on the Google Cloud Project at https://console.cloud.google.com/project/_/billing/enable Learn more at https://developers.google.com/maps/gmp-get-started', 'html_attributions': [], 'results': [], 'status': 'REQUEST_DENIED'}\n",
      "Result not found... Skipping.\n",
      "------------\n",
      "Retrieving Results for Index 498: de aar.\n",
      "{'error_message': 'You must enable Billing on the Google Cloud Project at https://console.cloud.google.com/project/_/billing/enable Learn more at https://developers.google.com/maps/gmp-get-started', 'html_attributions': [], 'results': [], 'status': 'REQUEST_DENIED'}\n",
      "Result not found... Skipping.\n",
      "------------\n",
      "Retrieving Results for Index 499: santa maria.\n",
      "{'error_message': 'You must enable Billing on the Google Cloud Project at https://console.cloud.google.com/project/_/billing/enable Learn more at https://developers.google.com/maps/gmp-get-started', 'html_attributions': [], 'results': [], 'status': 'REQUEST_DENIED'}\n",
      "Result not found... Skipping.\n",
      "------------\n",
      "Retrieving Results for Index 516: maldonado.\n",
      "{'error_message': 'You must enable Billing on the Google Cloud Project at https://console.cloud.google.com/project/_/billing/enable Learn more at https://developers.google.com/maps/gmp-get-started', 'html_attributions': [], 'results': [], 'status': 'REQUEST_DENIED'}\n",
      "Result not found... Skipping.\n",
      "------------\n"
     ]
    }
   ],
   "source": [
    "# Hotel Map\n",
    "\n",
    "hotel_df = sum_weather_df\n",
    "\n",
    "# Set parameters to search hotels with 5000 meters\n",
    "params = {\n",
    "    \"key\": g_key,\n",
    "    \"radius\": 5000,\n",
    "    \"keyword\": \"hotel\",\n",
    "    }\n",
    "\n",
    "for index, row in hotel_df.iterrows():\n",
    "    # Get lat, lng from DataFrame\n",
    "    lat = row[\"Lat\"]\n",
    "    lng = row[\"Lng\"]\n",
    "\n",
    "    # Change location each iteration while leaving original params in place\n",
    "    params[\"location\"] = f\"{lat},{lng}\"\n",
    "    \n",
    "    url = \"https://maps.googleapis.com/maps/api/place/nearbysearch/json\"\n",
    "\n",
    "    # Create url and make API request\n",
    "    print(f\"Retrieving Results for Index {index}: {row['City']}.\")\n",
    "    response = requests.get(url, params=params).json()\n",
    "    print(response)\n",
    "    # Extract results\n",
    "    results = response['results']\n",
    "    \n",
    "    try:\n",
    "        print(f\"Closest hotel is {results[0]['name']}.\")\n",
    "        hotel_df.loc[index, 'Hotel Name'] = results[0]['name']\n",
    "        \n",
    "    except (KeyError, IndexError  ):\n",
    "        print(\"Result not found... Skipping.\")\n",
    "        \n",
    "    print(\"------------\")"
   ]
  },
  {
   "cell_type": "code",
   "execution_count": 12,
   "metadata": {},
   "outputs": [
    {
     "output_type": "execute_result",
     "data": {
      "text/plain": [
       "              City  Cloudiness Country        Date  Humidity    Lat     Lng  \\\n",
       "85         rikitea           0      PF  1608353199        77 -23.12 -134.97   \n",
       "155        prieska           0      ZA  1608353407        42 -29.66   22.75   \n",
       "225           puri           0      IN  1608353284        60  19.80   85.85   \n",
       "237      esperance           0      AU  1608353432        31 -33.87  121.90   \n",
       "270  cockburn town           0      TC  1608353441        80  21.46  -71.14   \n",
       "\n",
       "     Max Temp  Wind Speed  Max Temp (F)  \n",
       "85      25.62        9.49        78.116  \n",
       "155     26.32        1.06        79.376  \n",
       "225     22.00        5.10        71.600  \n",
       "237     26.00        2.10        78.800  \n",
       "270     25.53        5.96        77.954  "
      ],
      "text/html": "<div>\n<style scoped>\n    .dataframe tbody tr th:only-of-type {\n        vertical-align: middle;\n    }\n\n    .dataframe tbody tr th {\n        vertical-align: top;\n    }\n\n    .dataframe thead th {\n        text-align: right;\n    }\n</style>\n<table border=\"1\" class=\"dataframe\">\n  <thead>\n    <tr style=\"text-align: right;\">\n      <th></th>\n      <th>City</th>\n      <th>Cloudiness</th>\n      <th>Country</th>\n      <th>Date</th>\n      <th>Humidity</th>\n      <th>Lat</th>\n      <th>Lng</th>\n      <th>Max Temp</th>\n      <th>Wind Speed</th>\n      <th>Max Temp (F)</th>\n    </tr>\n  </thead>\n  <tbody>\n    <tr>\n      <th>85</th>\n      <td>rikitea</td>\n      <td>0</td>\n      <td>PF</td>\n      <td>1608353199</td>\n      <td>77</td>\n      <td>-23.12</td>\n      <td>-134.97</td>\n      <td>25.62</td>\n      <td>9.49</td>\n      <td>78.116</td>\n    </tr>\n    <tr>\n      <th>155</th>\n      <td>prieska</td>\n      <td>0</td>\n      <td>ZA</td>\n      <td>1608353407</td>\n      <td>42</td>\n      <td>-29.66</td>\n      <td>22.75</td>\n      <td>26.32</td>\n      <td>1.06</td>\n      <td>79.376</td>\n    </tr>\n    <tr>\n      <th>225</th>\n      <td>puri</td>\n      <td>0</td>\n      <td>IN</td>\n      <td>1608353284</td>\n      <td>60</td>\n      <td>19.80</td>\n      <td>85.85</td>\n      <td>22.00</td>\n      <td>5.10</td>\n      <td>71.600</td>\n    </tr>\n    <tr>\n      <th>237</th>\n      <td>esperance</td>\n      <td>0</td>\n      <td>AU</td>\n      <td>1608353432</td>\n      <td>31</td>\n      <td>-33.87</td>\n      <td>121.90</td>\n      <td>26.00</td>\n      <td>2.10</td>\n      <td>78.800</td>\n    </tr>\n    <tr>\n      <th>270</th>\n      <td>cockburn town</td>\n      <td>0</td>\n      <td>TC</td>\n      <td>1608353441</td>\n      <td>80</td>\n      <td>21.46</td>\n      <td>-71.14</td>\n      <td>25.53</td>\n      <td>5.96</td>\n      <td>77.954</td>\n    </tr>\n  </tbody>\n</table>\n</div>"
     },
     "metadata": {},
     "execution_count": 12
    }
   ],
   "source": [
    "# Store hotel result into a DataFrame\n",
    "hotel_df.to_csv(\"./output_data/hotel_output.csv\")\n",
    "hotel_df.head()"
   ]
  },
  {
   "cell_type": "code",
   "execution_count": 11,
   "metadata": {},
   "outputs": [
    {
     "output_type": "error",
     "ename": "KeyError",
     "evalue": "'Hotel Name'",
     "traceback": [
      "\u001b[1;31m---------------------------------------------------------------------------\u001b[0m",
      "\u001b[1;31mKeyError\u001b[0m                                  Traceback (most recent call last)",
      "\u001b[1;32m<ipython-input-11-464b2b3e63ad>\u001b[0m in \u001b[0;36m<module>\u001b[1;34m\u001b[0m\n\u001b[0;32m     11\u001b[0m \u001b[1;31m# Store the DataFrame Row\u001b[0m\u001b[1;33m\u001b[0m\u001b[1;33m\u001b[0m\u001b[1;33m\u001b[0m\u001b[0m\n\u001b[0;32m     12\u001b[0m \u001b[1;31m# NOTE: be sure to update with your DataFrame name\u001b[0m\u001b[1;33m\u001b[0m\u001b[1;33m\u001b[0m\u001b[1;33m\u001b[0m\u001b[0m\n\u001b[1;32m---> 13\u001b[1;33m \u001b[0mhotel_info\u001b[0m \u001b[1;33m=\u001b[0m \u001b[1;33m[\u001b[0m\u001b[0minfo_box_template\u001b[0m\u001b[1;33m.\u001b[0m\u001b[0mformat\u001b[0m\u001b[1;33m(\u001b[0m\u001b[1;33m**\u001b[0m\u001b[0mrow\u001b[0m\u001b[1;33m)\u001b[0m \u001b[1;32mfor\u001b[0m \u001b[0mindex\u001b[0m\u001b[1;33m,\u001b[0m \u001b[0mrow\u001b[0m \u001b[1;32min\u001b[0m \u001b[0mhotel_df\u001b[0m\u001b[1;33m.\u001b[0m\u001b[0miterrows\u001b[0m\u001b[1;33m(\u001b[0m\u001b[1;33m)\u001b[0m\u001b[1;33m]\u001b[0m\u001b[1;33m\u001b[0m\u001b[1;33m\u001b[0m\u001b[0m\n\u001b[0m\u001b[0;32m     14\u001b[0m \u001b[0mlocations\u001b[0m \u001b[1;33m=\u001b[0m \u001b[0mhotel_df\u001b[0m\u001b[1;33m[\u001b[0m\u001b[1;33m[\u001b[0m\u001b[1;34m\"Lat\"\u001b[0m\u001b[1;33m,\u001b[0m \u001b[1;34m\"Lng\"\u001b[0m\u001b[1;33m]\u001b[0m\u001b[1;33m]\u001b[0m\u001b[1;33m\u001b[0m\u001b[1;33m\u001b[0m\u001b[0m\n",
      "\u001b[1;32m<ipython-input-11-464b2b3e63ad>\u001b[0m in \u001b[0;36m<listcomp>\u001b[1;34m(.0)\u001b[0m\n\u001b[0;32m     11\u001b[0m \u001b[1;31m# Store the DataFrame Row\u001b[0m\u001b[1;33m\u001b[0m\u001b[1;33m\u001b[0m\u001b[1;33m\u001b[0m\u001b[0m\n\u001b[0;32m     12\u001b[0m \u001b[1;31m# NOTE: be sure to update with your DataFrame name\u001b[0m\u001b[1;33m\u001b[0m\u001b[1;33m\u001b[0m\u001b[1;33m\u001b[0m\u001b[0m\n\u001b[1;32m---> 13\u001b[1;33m \u001b[0mhotel_info\u001b[0m \u001b[1;33m=\u001b[0m \u001b[1;33m[\u001b[0m\u001b[0minfo_box_template\u001b[0m\u001b[1;33m.\u001b[0m\u001b[0mformat\u001b[0m\u001b[1;33m(\u001b[0m\u001b[1;33m**\u001b[0m\u001b[0mrow\u001b[0m\u001b[1;33m)\u001b[0m \u001b[1;32mfor\u001b[0m \u001b[0mindex\u001b[0m\u001b[1;33m,\u001b[0m \u001b[0mrow\u001b[0m \u001b[1;32min\u001b[0m \u001b[0mhotel_df\u001b[0m\u001b[1;33m.\u001b[0m\u001b[0miterrows\u001b[0m\u001b[1;33m(\u001b[0m\u001b[1;33m)\u001b[0m\u001b[1;33m]\u001b[0m\u001b[1;33m\u001b[0m\u001b[1;33m\u001b[0m\u001b[0m\n\u001b[0m\u001b[0;32m     14\u001b[0m \u001b[0mlocations\u001b[0m \u001b[1;33m=\u001b[0m \u001b[0mhotel_df\u001b[0m\u001b[1;33m[\u001b[0m\u001b[1;33m[\u001b[0m\u001b[1;34m\"Lat\"\u001b[0m\u001b[1;33m,\u001b[0m \u001b[1;34m\"Lng\"\u001b[0m\u001b[1;33m]\u001b[0m\u001b[1;33m]\u001b[0m\u001b[1;33m\u001b[0m\u001b[1;33m\u001b[0m\u001b[0m\n",
      "\u001b[1;31mKeyError\u001b[0m: 'Hotel Name'"
     ]
    }
   ],
   "source": [
    "# NOTE: Do not change any of the code in this cell\n",
    "\n",
    "# Using the template add the hotel marks to the heatmap\n",
    "info_box_template = \"\"\"\n",
    "<dl>\n",
    "<dt>Name</dt><dd>{Hotel Name}</dd>\n",
    "<dt>City</dt><dd>{City}</dd>\n",
    "<dt>Country</dt><dd>{Country}</dd>\n",
    "</dl>\n",
    "\"\"\"\n",
    "# Store the DataFrame Row\n",
    "# NOTE: be sure to update with your DataFrame name\n",
    "hotel_info = [info_box_template.format(**row) for index, row in hotel_df.iterrows()]\n",
    "locations = hotel_df[[\"Lat\", \"Lng\"]]"
   ]
  },
  {
   "cell_type": "code",
   "execution_count": 13,
   "metadata": {},
   "outputs": [
    {
     "output_type": "error",
     "ename": "NameError",
     "evalue": "name 'hotel_info' is not defined",
     "traceback": [
      "\u001b[1;31m---------------------------------------------------------------------------\u001b[0m",
      "\u001b[1;31mNameError\u001b[0m                                 Traceback (most recent call last)",
      "\u001b[1;32m<ipython-input-13-82c3b9df1b21>\u001b[0m in \u001b[0;36m<module>\u001b[1;34m\u001b[0m\n\u001b[0;32m      3\u001b[0m \u001b[0mmarkers\u001b[0m \u001b[1;33m=\u001b[0m \u001b[0mgmaps\u001b[0m\u001b[1;33m.\u001b[0m\u001b[0mmarker_layer\u001b[0m\u001b[1;33m(\u001b[0m\u001b[0mlocations\u001b[0m\u001b[1;33m)\u001b[0m\u001b[1;33m\u001b[0m\u001b[1;33m\u001b[0m\u001b[0m\n\u001b[0;32m      4\u001b[0m \u001b[0mfig\u001b[0m\u001b[1;33m.\u001b[0m\u001b[0madd_layer\u001b[0m\u001b[1;33m(\u001b[0m\u001b[0mmarkers\u001b[0m\u001b[1;33m)\u001b[0m\u001b[1;33m\u001b[0m\u001b[1;33m\u001b[0m\u001b[0m\n\u001b[1;32m----> 5\u001b[1;33m \u001b[0msymbol_layer\u001b[0m \u001b[1;33m=\u001b[0m \u001b[0mgmaps\u001b[0m\u001b[1;33m.\u001b[0m\u001b[0msymbol_layer\u001b[0m\u001b[1;33m(\u001b[0m\u001b[0mlocations\u001b[0m\u001b[1;33m,\u001b[0m \u001b[0minfo_box_content\u001b[0m\u001b[1;33m=\u001b[0m\u001b[0mhotel_info\u001b[0m\u001b[1;33m)\u001b[0m\u001b[1;33m\u001b[0m\u001b[1;33m\u001b[0m\u001b[0m\n\u001b[0m\u001b[0;32m      6\u001b[0m \u001b[0mfig\u001b[0m\u001b[1;33m.\u001b[0m\u001b[0madd_layer\u001b[0m\u001b[1;33m(\u001b[0m\u001b[0msymbol_layer\u001b[0m\u001b[1;33m)\u001b[0m\u001b[1;33m\u001b[0m\u001b[1;33m\u001b[0m\u001b[0m\n\u001b[0;32m      7\u001b[0m \u001b[1;31m# Display Map\u001b[0m\u001b[1;33m\u001b[0m\u001b[1;33m\u001b[0m\u001b[1;33m\u001b[0m\u001b[0m\n",
      "\u001b[1;31mNameError\u001b[0m: name 'hotel_info' is not defined"
     ]
    }
   ],
   "source": [
    "# Add marker layer ontop of heat map\n",
    "# Add marker layer of heat map\n",
    "markers = gmaps.marker_layer(locations)\n",
    "fig.add_layer(markers)\n",
    "symbol_layer = gmaps.symbol_layer(locations, info_box_content=hotel_info)\n",
    "fig.add_layer(symbol_layer)\n",
    "# Display Map\n",
    "fig\n"
   ]
  },
  {
   "cell_type": "code",
   "execution_count": null,
   "metadata": {},
   "outputs": [],
   "source": []
  }
 ],
 "metadata": {
  "kernelspec": {
   "name": "python3",
   "display_name": "Python 3.9.0 64-bit",
   "metadata": {
    "interpreter": {
     "hash": "d21128016b67585f6ed4ddc25856b1cadcf36f1dc1c9d853c9c99f213954a2d0"
    }
   }
  },
  "language_info": {
   "codemirror_mode": {
    "name": "ipython",
    "version": 3
   },
   "file_extension": ".py",
   "mimetype": "text/x-python",
   "name": "python",
   "nbconvert_exporter": "python",
   "pygments_lexer": "ipython3",
   "version": "3.9.0-final"
  },
  "latex_envs": {
   "LaTeX_envs_menu_present": true,
   "autoclose": false,
   "autocomplete": true,
   "bibliofile": "biblio.bib",
   "cite_by": "apalike",
   "current_citInitial": 1,
   "eqLabelWithNumbers": true,
   "eqNumInitial": 1,
   "hotkeys": {
    "equation": "Ctrl-E",
    "itemize": "Ctrl-I"
   },
   "labels_anchors": false,
   "latex_user_defs": false,
   "report_style_numbering": false,
   "user_envs_cfg": false
  }
 },
 "nbformat": 4,
 "nbformat_minor": 4
}